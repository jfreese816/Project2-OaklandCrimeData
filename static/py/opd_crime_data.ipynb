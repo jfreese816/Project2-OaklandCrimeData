{
 "cells": [
  {
   "cell_type": "code",
   "execution_count": null,
   "id": "983b0839",
   "metadata": {},
   "outputs": [],
   "source": [
    "# Dependencies and setup\n",
    "import pandas as pd\n",
    "import json\n",
    "import requests\n",
    "\n",
    "# Import API key\n",
    "from config import fbi_key"
   ]
  },
  {
   "cell_type": "markdown",
   "id": "293a0259",
   "metadata": {},
   "source": [
    "## Oakland Crime Data"
   ]
  },
  {
   "cell_type": "code",
   "execution_count": null,
   "id": "93e415ef",
   "metadata": {},
   "outputs": [],
   "source": [
    "# Specify URL for Oakland crimewatch map data\n",
    "url = \"https://data.oaklandca.gov/resource/ym6k-rx7a.json\"\n",
    "# Make request and store response\n",
    "response = requests.get(url)\n",
    "\n",
    "# Print status code\n",
    "print(response.status_code)"
   ]
  },
  {
   "cell_type": "code",
   "execution_count": null,
   "id": "c9589aed",
   "metadata": {},
   "outputs": [],
   "source": [
    "# JSON-ify response\n",
    "response_json = response.json()\n",
    "\n",
    "# Print first and last articles\n",
    "print(f\"The first response is {json.dumps(response_json[0], indent=2)}.\")\n",
    "print(f\"The last response is {json.dumps(response_json[-1], indent=2)}.\")"
   ]
  },
  {
   "cell_type": "code",
   "execution_count": null,
   "id": "5c229d86",
   "metadata": {},
   "outputs": [],
   "source": [
    "print(f\"There are {len(response_json)} responses.\")"
   ]
  },
  {
   "cell_type": "code",
   "execution_count": null,
   "id": "64d19e5c",
   "metadata": {},
   "outputs": [],
   "source": [
    "# Convert JSON to Pandas DataFrame and drop NaN values\n",
    "opd_crime_df = pd.read_json(url)\n",
    "opd_crime_df = opd_crime_df.dropna()\n",
    "opd_crime_df.to_csv(\"./static/output/Oakland/opd_crime_data.csv\")\n",
    "opd_crime_df.head()"
   ]
  },
  {
   "cell_type": "code",
   "execution_count": null,
   "id": "699e28d5",
   "metadata": {},
   "outputs": [],
   "source": [
    "print(f\"There are {len(opd_crime_df)} rows.\")"
   ]
  },
  {
   "cell_type": "markdown",
   "id": "752dac80",
   "metadata": {},
   "source": [
    "## FBI Crime Data"
   ]
  },
  {
   "cell_type": "code",
   "execution_count": null,
   "id": "18e6fb8a",
   "metadata": {},
   "outputs": [],
   "source": [
    "# Specify URL for Oakland crimewatch map data\n",
    "url = \"https://api.usa.gov/crime/fbi/sapi/\"\n",
    "# Make request and store response\n",
    "response = requests.get(url)\n",
    "\n",
    "# Print status code\n",
    "print(response.status_code)"
   ]
  }
 ],
 "metadata": {
  "kernelspec": {
   "display_name": "Python 3",
   "language": "python",
   "name": "python3"
  },
  "language_info": {
   "codemirror_mode": {
    "name": "ipython",
    "version": 3
   },
   "file_extension": ".py",
   "mimetype": "text/x-python",
   "name": "python",
   "nbconvert_exporter": "python",
   "pygments_lexer": "ipython3",
   "version": "3.6.10"
  }
 },
 "nbformat": 4,
 "nbformat_minor": 5
}
