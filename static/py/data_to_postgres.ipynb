{
 "cells": [
  {
   "cell_type": "code",
   "execution_count": 1,
   "id": "thorough-oxford",
   "metadata": {},
   "outputs": [],
   "source": [
    "# Import dependencies\n",
    "import pandas as pd\n",
    "from sqlalchemy import create_engine\n",
    "from config import db_user, db_password, db_host, db_port, db_name"
   ]
  },
  {
   "cell_type": "code",
   "execution_count": 2,
   "id": "previous-orlando",
   "metadata": {},
   "outputs": [
    {
     "data": {
      "text/html": [
       "<div>\n",
       "<style scoped>\n",
       "    .dataframe tbody tr th:only-of-type {\n",
       "        vertical-align: middle;\n",
       "    }\n",
       "\n",
       "    .dataframe tbody tr th {\n",
       "        vertical-align: top;\n",
       "    }\n",
       "\n",
       "    .dataframe thead th {\n",
       "        text-align: right;\n",
       "    }\n",
       "</style>\n",
       "<table border=\"1\" class=\"dataframe\">\n",
       "  <thead>\n",
       "    <tr style=\"text-align: right;\">\n",
       "      <th></th>\n",
       "      <th>crimetype</th>\n",
       "      <th>category</th>\n",
       "      <th>years</th>\n",
       "      <th>casenumber</th>\n",
       "      <th>description</th>\n",
       "      <th>policebeat</th>\n",
       "      <th>address</th>\n",
       "      <th>city</th>\n",
       "      <th>state</th>\n",
       "      <th>location</th>\n",
       "      <th>lat</th>\n",
       "      <th>lng</th>\n",
       "    </tr>\n",
       "  </thead>\n",
       "  <tbody>\n",
       "    <tr>\n",
       "      <th>0</th>\n",
       "      <td>ARSON</td>\n",
       "      <td>Property</td>\n",
       "      <td>2019</td>\n",
       "      <td>19-000495</td>\n",
       "      <td>MAL SET/ETC FIRE PROP/ETC</td>\n",
       "      <td>02Y</td>\n",
       "      <td>1800 9TH ST</td>\n",
       "      <td>Oakland</td>\n",
       "      <td>CA</td>\n",
       "      <td>POINT (-122.302 37.810199)</td>\n",
       "      <td>-122.302000</td>\n",
       "      <td>37.810199</td>\n",
       "    </tr>\n",
       "    <tr>\n",
       "      <th>1</th>\n",
       "      <td>ARSON</td>\n",
       "      <td>Property</td>\n",
       "      <td>2019</td>\n",
       "      <td>19-000505</td>\n",
       "      <td>MAL SET/ETC FIRE PROP/ETC</td>\n",
       "      <td>31Z</td>\n",
       "      <td>10322 KNIGHT ST</td>\n",
       "      <td>Oakland</td>\n",
       "      <td>CA</td>\n",
       "      <td>POINT (-122.181421 37.729727)</td>\n",
       "      <td>-122.181421</td>\n",
       "      <td>37.729727</td>\n",
       "    </tr>\n",
       "    <tr>\n",
       "      <th>2</th>\n",
       "      <td>ARSON</td>\n",
       "      <td>Property</td>\n",
       "      <td>2019</td>\n",
       "      <td>19-000554</td>\n",
       "      <td>MAL SET/ETC FIRE PROP/ETC</td>\n",
       "      <td>34X</td>\n",
       "      <td>9314 PLYMOUTH ST</td>\n",
       "      <td>Oakland</td>\n",
       "      <td>CA</td>\n",
       "      <td>POINT (-122.169758 37.749289)</td>\n",
       "      <td>-122.169758</td>\n",
       "      <td>37.749289</td>\n",
       "    </tr>\n",
       "    <tr>\n",
       "      <th>3</th>\n",
       "      <td>ARSON</td>\n",
       "      <td>Property</td>\n",
       "      <td>2019</td>\n",
       "      <td>19-001709</td>\n",
       "      <td>MAL SET/ETC FIRE PROP/ETC - MOTOR VEHICLES</td>\n",
       "      <td>07X</td>\n",
       "      <td>3445 SAN PABLO AV</td>\n",
       "      <td>Oakland</td>\n",
       "      <td>CA</td>\n",
       "      <td>POINT (-122.278206 37.825691)</td>\n",
       "      <td>-122.278206</td>\n",
       "      <td>37.825691</td>\n",
       "    </tr>\n",
       "    <tr>\n",
       "      <th>4</th>\n",
       "      <td>ARSON</td>\n",
       "      <td>Property</td>\n",
       "      <td>2019</td>\n",
       "      <td>19-001815</td>\n",
       "      <td>MAL SET/ETC FIRE PROP/ETC - MOTOR VEHICLES</td>\n",
       "      <td>21Y</td>\n",
       "      <td>3100 DAVIS ST</td>\n",
       "      <td>Oakland</td>\n",
       "      <td>CA</td>\n",
       "      <td>POINT (-122.220185 37.789836)</td>\n",
       "      <td>-122.220185</td>\n",
       "      <td>37.789836</td>\n",
       "    </tr>\n",
       "  </tbody>\n",
       "</table>\n",
       "</div>"
      ],
      "text/plain": [
       "  crimetype  category  years casenumber  \\\n",
       "0     ARSON  Property   2019  19-000495   \n",
       "1     ARSON  Property   2019  19-000505   \n",
       "2     ARSON  Property   2019  19-000554   \n",
       "3     ARSON  Property   2019  19-001709   \n",
       "4     ARSON  Property   2019  19-001815   \n",
       "\n",
       "                                  description policebeat            address  \\\n",
       "0                   MAL SET/ETC FIRE PROP/ETC        02Y        1800 9TH ST   \n",
       "1                   MAL SET/ETC FIRE PROP/ETC        31Z    10322 KNIGHT ST   \n",
       "2                   MAL SET/ETC FIRE PROP/ETC        34X   9314 PLYMOUTH ST   \n",
       "3  MAL SET/ETC FIRE PROP/ETC - MOTOR VEHICLES        07X  3445 SAN PABLO AV   \n",
       "4  MAL SET/ETC FIRE PROP/ETC - MOTOR VEHICLES        21Y      3100 DAVIS ST   \n",
       "\n",
       "      city state                       location         lat        lng  \n",
       "0  Oakland    CA     POINT (-122.302 37.810199) -122.302000  37.810199  \n",
       "1  Oakland    CA  POINT (-122.181421 37.729727) -122.181421  37.729727  \n",
       "2  Oakland    CA  POINT (-122.169758 37.749289) -122.169758  37.749289  \n",
       "3  Oakland    CA  POINT (-122.278206 37.825691) -122.278206  37.825691  \n",
       "4  Oakland    CA  POINT (-122.220185 37.789836) -122.220185  37.789836  "
      ]
     },
     "execution_count": 2,
     "metadata": {},
     "output_type": "execute_result"
    }
   ],
   "source": [
    "# Read in crime data and place in a dataframe\n",
    "csv_file = \"../data/CrimeWatch_Data_2019-2020.csv\"\n",
    "crime_data_df = pd.read_csv(csv_file)\n",
    "crime_data_df.head()"
   ]
  },
  {
   "cell_type": "code",
   "execution_count": null,
   "id": "falling-bookmark",
   "metadata": {},
   "outputs": [],
   "source": [
    "#crime_data_df[[\"pre-fix\",\"coordinates\"]]=crime_data_df.location_1.str.split(\"[\",expand=True)"
   ]
  },
  {
   "cell_type": "code",
   "execution_count": null,
   "id": "alternative-specific",
   "metadata": {},
   "outputs": [],
   "source": [
    "#crime_data_df.head()"
   ]
  },
  {
   "cell_type": "code",
   "execution_count": null,
   "id": "rental-hygiene",
   "metadata": {},
   "outputs": [],
   "source": [
    "#crime_data_df[[\"lat\",\"lng\"]]=crime_data_df.coordinates.str.split(\",\",expand=True)\n",
    "#crime_data_df.head()"
   ]
  },
  {
   "cell_type": "code",
   "execution_count": null,
   "id": "political-functionality",
   "metadata": {},
   "outputs": [],
   "source": [
    "#crime_data_df[[\"lng\",\"xx\"]]=crime_data_df.lng.str.split(\"]\",expand=True)\n",
    "#crime_data_df.head()"
   ]
  },
  {
   "cell_type": "code",
   "execution_count": 3,
   "id": "acknowledged-moore",
   "metadata": {},
   "outputs": [],
   "source": [
    "# Create connection to Postgres SQL database\n",
    "rds_connection_string = f'postgresql://{db_user}:{db_password}@{db_host}:{db_port}/{db_name}'\n",
    "\n",
    "engine = create_engine(rds_connection_string)"
   ]
  },
  {
   "cell_type": "code",
   "execution_count": 4,
   "id": "exclusive-nothing",
   "metadata": {},
   "outputs": [],
   "source": [
    "# Make sure to first set up the database (named same as what you have saved in the config file read in as dependency)\n",
    "# Create tables from the columns in the dataframe\n",
    "crime_data_df.to_sql(name='crimetype', con=engine, if_exists='append', index=False)"
   ]
  },
  {
   "cell_type": "code",
   "execution_count": 5,
   "id": "configured-start",
   "metadata": {},
   "outputs": [],
   "source": [
    "crime_data_df.to_sql(name='category', con=engine, if_exists='append', index=False)"
   ]
  },
  {
   "cell_type": "code",
   "execution_count": 6,
   "id": "expired-suffering",
   "metadata": {},
   "outputs": [],
   "source": [
    "crime_data_df.to_sql(name='years', con=engine, if_exists='append', index=False)"
   ]
  },
  {
   "cell_type": "code",
   "execution_count": 7,
   "id": "convertible-jurisdiction",
   "metadata": {},
   "outputs": [],
   "source": [
    "crime_data_df.to_sql(name='casenumber', con=engine, if_exists='append', index=False)"
   ]
  },
  {
   "cell_type": "code",
   "execution_count": 8,
   "id": "certified-theta",
   "metadata": {},
   "outputs": [],
   "source": [
    "crime_data_df.to_sql(name='description', con=engine, if_exists='append', index=False)"
   ]
  },
  {
   "cell_type": "code",
   "execution_count": 9,
   "id": "auburn-snapshot",
   "metadata": {},
   "outputs": [],
   "source": [
    "crime_data_df.to_sql(name='policebeat', con=engine, if_exists='append', index=False)"
   ]
  },
  {
   "cell_type": "code",
   "execution_count": 10,
   "id": "adjustable-haiti",
   "metadata": {},
   "outputs": [],
   "source": [
    "crime_data_df.to_sql(name='address', con=engine, if_exists='append', index=False)"
   ]
  },
  {
   "cell_type": "code",
   "execution_count": 11,
   "id": "stretch-brisbane",
   "metadata": {},
   "outputs": [],
   "source": [
    "crime_data_df.to_sql(name='city', con=engine, if_exists='append', index=False)"
   ]
  },
  {
   "cell_type": "code",
   "execution_count": 12,
   "id": "utility-pound",
   "metadata": {},
   "outputs": [],
   "source": [
    "crime_data_df.to_sql(name='state', con=engine, if_exists='append', index=False)"
   ]
  },
  {
   "cell_type": "code",
   "execution_count": 13,
   "id": "twelve-saturday",
   "metadata": {},
   "outputs": [],
   "source": [
    "crime_data_df.to_sql(name='lat', con=engine, if_exists='append', index=False)"
   ]
  },
  {
   "cell_type": "code",
   "execution_count": 14,
   "id": "assigned-saudi",
   "metadata": {},
   "outputs": [],
   "source": [
    "crime_data_df.to_sql(name='lng', con=engine, if_exists='append', index=False)"
   ]
  },
  {
   "cell_type": "code",
   "execution_count": 15,
   "id": "dental-smoke",
   "metadata": {},
   "outputs": [
    {
     "name": "stderr",
     "output_type": "stream",
     "text": [
      "C:\\Users\\mjensen\\Anaconda3\\envs\\PythonData\\lib\\site-packages\\ipykernel_launcher.py:1: SADeprecationWarning: The Engine.table_names() method is deprecated and will be removed in a future release.  Please refer to Inspector.get_table_names(). (deprecated since: 1.4)\n",
      "  \"\"\"Entry point for launching an IPython kernel.\n"
     ]
    },
    {
     "data": {
      "text/plain": [
       "['crimetype',\n",
       " 'category',\n",
       " 'years',\n",
       " 'casenumber',\n",
       " 'description',\n",
       " 'policebeat',\n",
       " 'address',\n",
       " 'city',\n",
       " 'state',\n",
       " 'lat',\n",
       " 'lng']"
      ]
     },
     "execution_count": 15,
     "metadata": {},
     "output_type": "execute_result"
    }
   ],
   "source": [
    "# Test to see if the tables were written to Postgres\n",
    "engine.table_names()"
   ]
  },
  {
   "cell_type": "code",
   "execution_count": null,
   "id": "christian-child",
   "metadata": {},
   "outputs": [],
   "source": [
    "#crime_data_df.to_json(\"../data/oakland_crime_data.json\")"
   ]
  }
 ],
 "metadata": {
  "kernelspec": {
   "display_name": "Python [conda env:PythonData] *",
   "language": "python",
   "name": "conda-env-PythonData-py"
  },
  "language_info": {
   "codemirror_mode": {
    "name": "ipython",
    "version": 3
   },
   "file_extension": ".py",
   "mimetype": "text/x-python",
   "name": "python",
   "nbconvert_exporter": "python",
   "pygments_lexer": "ipython3",
   "version": "3.6.10"
  }
 },
 "nbformat": 4,
 "nbformat_minor": 5
}
