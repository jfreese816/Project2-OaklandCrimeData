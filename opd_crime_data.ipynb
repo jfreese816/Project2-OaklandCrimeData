{
 "cells": [
  {
   "cell_type": "code",
   "execution_count": 1,
   "id": "983b0839",
   "metadata": {},
   "outputs": [],
   "source": [
    "import pandas as pd\n",
    "import json\n",
    "import requests"
   ]
  },
  {
   "cell_type": "code",
   "execution_count": 2,
   "id": "93e415ef",
   "metadata": {},
   "outputs": [
    {
     "name": "stdout",
     "output_type": "stream",
     "text": [
      "200\n"
     ]
    }
   ],
   "source": [
    "# Specify URL for Oakland crimewatch map data\n",
    "url = \"https://data.oaklandca.gov/resource/ym6k-rx7a.json\"\n",
    "# Make request and store response\n",
    "response = requests.get(url)\n",
    "\n",
    "# Print status code\n",
    "print(response.status_code)"
   ]
  },
  {
   "cell_type": "code",
   "execution_count": 3,
   "id": "c9589aed",
   "metadata": {},
   "outputs": [
    {
     "name": "stdout",
     "output_type": "stream",
     "text": [
      "The first response is {\n",
      "  \"crimetype\": \"VANDALISM\",\n",
      "  \"datetime\": \"2021-03-27T20:00:00.000\",\n",
      "  \"casenumber\": \"21-016163\",\n",
      "  \"description\": \"VANDALISM\",\n",
      "  \"policebeat\": \"77X\",\n",
      "  \"address\": \"LAKE MERRIT\",\n",
      "  \"city\": \"Oakland\",\n",
      "  \"state\": \"CA\"\n",
      "}.\n",
      "The last response is {\n",
      "  \"crimetype\": \"NARCOTICS\",\n",
      "  \"datetime\": \"2016-02-24T12:16:00.000\",\n",
      "  \"casenumber\": \"16-010185\",\n",
      "  \"description\": \"SIMPLE POSSESSION OF HEROIN, COCAINE, LISTED CONTROLLED SUBSTANCES\",\n",
      "  \"policebeat\": \"06X\",\n",
      "  \"address\": \"600 24TH ST\",\n",
      "  \"city\": \"Oakland\",\n",
      "  \"state\": \"CA\",\n",
      "  \"location_1\": {\n",
      "    \"type\": \"Point\",\n",
      "    \"coordinates\": [\n",
      "      -122.272397,\n",
      "      37.814283\n",
      "    ]\n",
      "  },\n",
      "  \":@computed_region_w23w_jfhw\": \"1489\"\n",
      "}.\n"
     ]
    }
   ],
   "source": [
    "# JSON-ify response\n",
    "response_json = response.json()\n",
    "\n",
    "# Print first and last articles\n",
    "print(f\"The first response is {json.dumps(response_json[0], indent=2)}.\")\n",
    "print(f\"The last response is {json.dumps(response_json[-1], indent=2)}.\")"
   ]
  },
  {
   "cell_type": "code",
   "execution_count": 4,
   "id": "5c229d86",
   "metadata": {},
   "outputs": [
    {
     "name": "stdout",
     "output_type": "stream",
     "text": [
      "There are 1000 responses.\n"
     ]
    }
   ],
   "source": [
    "print(f\"There are {len(response_json)} responses.\")"
   ]
  },
  {
   "cell_type": "code",
   "execution_count": 5,
   "id": "64d19e5c",
   "metadata": {},
   "outputs": [
    {
     "data": {
      "text/html": [
       "<div>\n",
       "<style scoped>\n",
       "    .dataframe tbody tr th:only-of-type {\n",
       "        vertical-align: middle;\n",
       "    }\n",
       "\n",
       "    .dataframe tbody tr th {\n",
       "        vertical-align: top;\n",
       "    }\n",
       "\n",
       "    .dataframe thead th {\n",
       "        text-align: right;\n",
       "    }\n",
       "</style>\n",
       "<table border=\"1\" class=\"dataframe\">\n",
       "  <thead>\n",
       "    <tr style=\"text-align: right;\">\n",
       "      <th></th>\n",
       "      <th>crimetype</th>\n",
       "      <th>datetime</th>\n",
       "      <th>casenumber</th>\n",
       "      <th>description</th>\n",
       "      <th>policebeat</th>\n",
       "      <th>address</th>\n",
       "      <th>city</th>\n",
       "      <th>state</th>\n",
       "      <th>location_1</th>\n",
       "      <th>:@computed_region_w23w_jfhw</th>\n",
       "    </tr>\n",
       "  </thead>\n",
       "  <tbody>\n",
       "    <tr>\n",
       "      <th>88</th>\n",
       "      <td>PETTY THEFT</td>\n",
       "      <td>2016-11-20 02:00:00</td>\n",
       "      <td>16-915770</td>\n",
       "      <td>THEFT</td>\n",
       "      <td>14X</td>\n",
       "      <td>400 VERNON ST</td>\n",
       "      <td>Oakland</td>\n",
       "      <td>CA</td>\n",
       "      <td>{'type': 'Point', 'coordinates': [-122.254147,...</td>\n",
       "      <td>1487.0</td>\n",
       "    </tr>\n",
       "    <tr>\n",
       "      <th>89</th>\n",
       "      <td>BURG - AUTO</td>\n",
       "      <td>2016-11-21 19:45:00</td>\n",
       "      <td>16-915840</td>\n",
       "      <td>BURGLARY-AUTO</td>\n",
       "      <td>08X</td>\n",
       "      <td>2500 BROADWAY</td>\n",
       "      <td>Oakland</td>\n",
       "      <td>CA</td>\n",
       "      <td>{'type': 'Point', 'coordinates': [-122.2649, 3...</td>\n",
       "      <td>1489.0</td>\n",
       "    </tr>\n",
       "    <tr>\n",
       "      <th>90</th>\n",
       "      <td>GRAND THEFT</td>\n",
       "      <td>2016-11-20 22:30:00</td>\n",
       "      <td>16-915881</td>\n",
       "      <td>GRAND THEFT</td>\n",
       "      <td>14X</td>\n",
       "      <td>200 EUCLID AV</td>\n",
       "      <td>Oakland</td>\n",
       "      <td>CA</td>\n",
       "      <td>{'type': 'Point', 'coordinates': [-122.253586,...</td>\n",
       "      <td>1487.0</td>\n",
       "    </tr>\n",
       "    <tr>\n",
       "      <th>91</th>\n",
       "      <td>GRAND THEFT</td>\n",
       "      <td>2016-12-18 01:00:00</td>\n",
       "      <td>16-917229</td>\n",
       "      <td>THEFT</td>\n",
       "      <td>11X</td>\n",
       "      <td>500 61ST ST</td>\n",
       "      <td>Oakland</td>\n",
       "      <td>CA</td>\n",
       "      <td>{'type': 'Point', 'coordinates': [-122.261142,...</td>\n",
       "      <td>1486.0</td>\n",
       "    </tr>\n",
       "    <tr>\n",
       "      <th>92</th>\n",
       "      <td>PETTY THEFT</td>\n",
       "      <td>2016-09-27 00:00:00</td>\n",
       "      <td>17-000252</td>\n",
       "      <td>THEFT</td>\n",
       "      <td>04X</td>\n",
       "      <td>1900 FRANKLIN ST</td>\n",
       "      <td>Oakland</td>\n",
       "      <td>CA</td>\n",
       "      <td>{'type': 'Point', 'coordinates': [-122.267798,...</td>\n",
       "      <td>1489.0</td>\n",
       "    </tr>\n",
       "  </tbody>\n",
       "</table>\n",
       "</div>"
      ],
      "text/plain": [
       "      crimetype            datetime casenumber    description policebeat  \\\n",
       "88  PETTY THEFT 2016-11-20 02:00:00  16-915770          THEFT        14X   \n",
       "89  BURG - AUTO 2016-11-21 19:45:00  16-915840  BURGLARY-AUTO        08X   \n",
       "90  GRAND THEFT 2016-11-20 22:30:00  16-915881    GRAND THEFT        14X   \n",
       "91  GRAND THEFT 2016-12-18 01:00:00  16-917229          THEFT        11X   \n",
       "92  PETTY THEFT 2016-09-27 00:00:00  17-000252          THEFT        04X   \n",
       "\n",
       "             address     city state  \\\n",
       "88     400 VERNON ST  Oakland    CA   \n",
       "89     2500 BROADWAY  Oakland    CA   \n",
       "90     200 EUCLID AV  Oakland    CA   \n",
       "91       500 61ST ST  Oakland    CA   \n",
       "92  1900 FRANKLIN ST  Oakland    CA   \n",
       "\n",
       "                                           location_1  \\\n",
       "88  {'type': 'Point', 'coordinates': [-122.254147,...   \n",
       "89  {'type': 'Point', 'coordinates': [-122.2649, 3...   \n",
       "90  {'type': 'Point', 'coordinates': [-122.253586,...   \n",
       "91  {'type': 'Point', 'coordinates': [-122.261142,...   \n",
       "92  {'type': 'Point', 'coordinates': [-122.267798,...   \n",
       "\n",
       "    :@computed_region_w23w_jfhw  \n",
       "88                       1487.0  \n",
       "89                       1489.0  \n",
       "90                       1487.0  \n",
       "91                       1486.0  \n",
       "92                       1489.0  "
      ]
     },
     "execution_count": 5,
     "metadata": {},
     "output_type": "execute_result"
    }
   ],
   "source": [
    "# Convert JSON to Pandas DataFrame and drop NaN values\n",
    "opd_crime_df = pd.read_json(url)\n",
    "opd_crime_df = opd_crime_df.dropna()\n",
    "opd_crime_df.head()"
   ]
  },
  {
   "cell_type": "code",
   "execution_count": 6,
   "id": "699e28d5",
   "metadata": {},
   "outputs": [
    {
     "name": "stdout",
     "output_type": "stream",
     "text": [
      "There are 521 rows.\n"
     ]
    }
   ],
   "source": [
    "print(f\"There are {len(opd_crime_df)} rows.\")"
   ]
  }
 ],
 "metadata": {
  "kernelspec": {
   "display_name": "Python 3",
   "language": "python",
   "name": "python3"
  },
  "language_info": {
   "codemirror_mode": {
    "name": "ipython",
    "version": 3
   },
   "file_extension": ".py",
   "mimetype": "text/x-python",
   "name": "python",
   "nbconvert_exporter": "python",
   "pygments_lexer": "ipython3",
   "version": "3.6.13"
  }
 },
 "nbformat": 4,
 "nbformat_minor": 5
}
